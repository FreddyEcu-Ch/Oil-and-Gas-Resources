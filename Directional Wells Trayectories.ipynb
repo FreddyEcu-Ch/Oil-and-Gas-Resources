{
 "cells": [
  {
   "cell_type": "markdown",
   "metadata": {},
   "source": [
    "#                                            DIRECTIONAL DRILLING \n",
    "##                                           *DIRECTIONAL WELLS TRAYECTORIES*"
   ]
  },
  {
   "cell_type": "markdown",
   "metadata": {},
   "source": [
    "***"
   ]
  },
  {
   "cell_type": "markdown",
   "metadata": {},
   "source": [
    "<img src=\"images/Slant well.png\"/>"
   ]
  },
  {
   "cell_type": "markdown",
   "metadata": {},
   "source": [
    "# Python Libraries"
   ]
  },
  {
   "cell_type": "code",
   "execution_count": 75,
   "metadata": {},
   "outputs": [],
   "source": [
    "import numpy as np\n",
    "import pandas as pd\n",
    "import matplotlib.pyplot as plt\n",
    "from collections import namedtuple\n",
    "from math import radians, isclose, acos, asin, cos, sin, tan, atan, degrees, sqrt"
   ]
  },
  {
   "cell_type": "code",
   "execution_count": 3,
   "metadata": {},
   "outputs": [],
   "source": [
    "%config Completer.use_jedi = False"
   ]
  },
  {
   "cell_type": "markdown",
   "metadata": {},
   "source": [
    "# Directional Wells Profiles"
   ]
  },
  {
   "cell_type": "markdown",
   "metadata": {},
   "source": [
    "# *Slant Well Profile (J Type)*"
   ]
  },
  {
   "cell_type": "code",
   "execution_count": 49,
   "metadata": {},
   "outputs": [],
   "source": [
    "Data = namedtuple(\"Input\", \"TVD KOP BUR DH\")\n",
    "Output = namedtuple(\"Output\", \"R Theta TVD_EOB Md_EOB Dh_EOB Tan_len Md_total\")\n",
    "\n",
    "def well_J(data:Data, unit='ingles') -> Output:\n",
    "    tvd = data.TVD\n",
    "    kop = data.KOP\n",
    "    bur = data.BUR\n",
    "    dh = data.DH\n",
    "    if unit == 'ingles':\n",
    "        R = 5729.58 / bur\n",
    "    else:\n",
    "        R = 1718.87 / bur\n",
    "    if dh > R:\n",
    "        dc = dh - R\n",
    "    elif dh < R:\n",
    "        dc =   R - dh\n",
    "    do = tvd - kop\n",
    "    doc = degrees(atan(dc / do))\n",
    "    oc = sqrt(dc**2 + do**2)\n",
    "    boc = degrees(acos(R / oc))\n",
    "    if R < dh:\n",
    "        bod = boc - doc\n",
    "    elif R > dh:\n",
    "        bod = boc + doc\n",
    "    theta = 90 - bod\n",
    "    tvd_eob = kop + abs(R * sin(radians(theta)))\n",
    "    if unit == 'ingles':\n",
    "        md_eob = kop + (theta / bur) * 100\n",
    "    else:\n",
    "        md_eob = kop + (theta / bur) * 30\n",
    "    dh_eob = R - R * cos(radians(theta))\n",
    "    tan_len = sqrt(oc**2 - R**2)\n",
    "    if unit == 'ingles':\n",
    "        md_total = kop + (theta / bur) * 100 + tan_len\n",
    "    else:\n",
    "        md_total = kop + (theta / bur) * 30 + tan_len\n",
    "    return Output(R=R, Theta=theta, TVD_EOB=tvd_eob, Md_EOB=md_eob, Dh_EOB=dh_eob, \\\n",
    "                  Tan_len=tan_len, Md_total=md_total)"
   ]
  },
  {
   "cell_type": "code",
   "execution_count": 73,
   "metadata": {},
   "outputs": [],
   "source": [
    "trajectory_J = well_J(Data(8000, 500, 2, 970.8))"
   ]
  },
  {
   "cell_type": "code",
   "execution_count": 74,
   "metadata": {},
   "outputs": [
    {
     "name": "stdout",
     "output_type": "stream",
     "text": [
      "R -> 2864.79 ft\n",
      "theta -> 7.564230623470863 degrees\n",
      "tvd_EOB -> 877.1139517978513 ft\n",
      "Md_EOB -> 878.2115311735431 ft\n",
      "Dh_EOB -> 24.929649303260703 ft\n",
      "Lengh_tan -> 7185.414140882904 ft\n",
      "Md_Total -> 8063.625672056447 ft\n"
     ]
    }
   ],
   "source": [
    "names = ['R', 'theta', 'tvd_EOB', 'Md_EOB', 'Dh_EOB', 'Lengh_tan', 'Md_Total']\n",
    "for param , value in zip(names, trajectory_J):\n",
    "    if param == 'theta':\n",
    "        print(f\"{param} -> {value} degrees\")\n",
    "    else:\n",
    "        print(f\"{param} -> {value} ft\")"
   ]
  },
  {
   "cell_type": "markdown",
   "metadata": {},
   "source": [
    "# *S-Type Well Profile*"
   ]
  },
  {
   "cell_type": "code",
   "execution_count": 66,
   "metadata": {},
   "outputs": [],
   "source": [
    "Data_S = namedtuple(\"Input\", \"TVD KOP BUR DOR DH\")\n",
    "Output_S = namedtuple(\"Output\", \"R1 R2 Theta TVD_EOB Md_EOB Dh_EOB Tan_len Md_SOD TVD_SOD Dh_SOD Md_total\")\n",
    "\n",
    "def well_S(data:Data_S, unit='ingles'):\n",
    "    tvd = data.TVD\n",
    "    kop = data.KOP\n",
    "    bur = data.BUR\n",
    "    dor = data.DOR\n",
    "    dh = data.DH\n",
    "    if unit == 'ingles':\n",
    "        R1 = 5729.58 / bur\n",
    "        R2 = 5729.58 / dor\n",
    "    else:\n",
    "        R1 = 1718.87 / bur\n",
    "        R2 = 1718.87 / dor\n",
    "    if dh > (R1 + R2):\n",
    "        fe = dh - (R1 + R2)\n",
    "    elif dh < (R1 + R2):\n",
    "        fe = R1 - (dh - R2)\n",
    "    eo = tvd - kop\n",
    "    foe = degrees(atan(fe / eo))\n",
    "    of = sqrt(fe**2 + eo**2)\n",
    "    fg = R1 + R2\n",
    "    fog = degrees(asin(fg / of))\n",
    "    theta = fog - foe\n",
    "    tvd_eob = kop + R1 * sin(radians(theta))\n",
    "    if unit == 'ingles':\n",
    "        md_eob = kop + (theta / bur) * 100\n",
    "    else:\n",
    "        md_eob = kop + (theta / bur) * 30\n",
    "    dh_eob = R1 - abs(R1 * cos(radians(theta)))\n",
    "    tan_len = sqrt(of**2 - fg**2)\n",
    "    if unit == 'ingles':\n",
    "        md_sod = kop + (theta / bur) * 100 + tan_len \n",
    "    else:\n",
    "         md_sod = kop + (theta / bur) * 30 + tan_len \n",
    "    tvd_sod = tvd_eob + tan_len * abs(cos(radians(theta)))\n",
    "    dh_sod = dh_eob + abs(tan_len * sin(radians(theta)))\n",
    "    if unit == 'ingles':\n",
    "        md_total = kop + (theta / bur) * 100 + tan_len + (theta / dor) * 100\n",
    "    else:\n",
    "        md_total = kop + (theta / bur) * 30 + tan_len + (theta / dor) * 30\n",
    "    return Output_S(R1=R1, R2=R2, Theta=theta, TVD_EOB=tvd_eob, Md_EOB=md_eob, Dh_EOB=dh_eob, \\\n",
    "                    Tan_len=tan_len, Md_SOD=md_sod, TVD_SOD=tvd_sod, Dh_SOD=dh_sod, Md_total=md_total)"
   ]
  },
  {
   "cell_type": "code",
   "execution_count": 68,
   "metadata": {},
   "outputs": [],
   "source": [
    "trajectory_S = well_S(Data_S(12000, 6084, 3, 2, 3500))"
   ]
  },
  {
   "cell_type": "code",
   "execution_count": 69,
   "metadata": {},
   "outputs": [
    {
     "data": {
      "text/plain": [
       "Output(R1=1909.86, R2=2864.79, Theta=39.93029740693158, TVD_EOB=7309.853592805263, Md_EOB=7415.009913564386, Dh_EOB=445.32997688458863, Tan_len=3718.401000430159, Md_SOD=11133.410913994545, TVD_SOD=10161.219610792105, Dh_SOD=2832.0050346731164, Md_total=13129.925784341123)"
      ]
     },
     "execution_count": 69,
     "metadata": {},
     "output_type": "execute_result"
    }
   ],
   "source": [
    "trajectory_S"
   ]
  },
  {
   "cell_type": "code",
   "execution_count": 72,
   "metadata": {},
   "outputs": [
    {
     "name": "stdout",
     "output_type": "stream",
     "text": [
      "R1 -> 1909.86 ft\n",
      "R2 -> 2864.79 ft\n",
      "theta -> 39.93029740693158 degrees\n",
      "tvd_EOB -> 7309.853592805263 ft\n",
      "Md_EOB -> 7415.009913564386 ft\n",
      "Dh_EOB -> 445.32997688458863 ft\n",
      "Lengh_tan -> 3718.401000430159 ft\n",
      "Md_SOD -> 11133.410913994545 ft\n",
      "tvd_SOD -> 10161.219610792105 ft\n",
      "Dh_SOD -> 2832.0050346731164 ft\n",
      "Md_Total -> 13129.925784341123 ft\n"
     ]
    }
   ],
   "source": [
    "names = ['R1', 'R2', 'theta', 'tvd_EOB', 'Md_EOB', 'Dh_EOB', 'Lengh_tan', 'Md_SOD', 'tvd_SOD', 'Dh_SOD', 'Md_Total']\n",
    "for param , value in zip(names, trajectory_S):\n",
    "    if param == 'theta':\n",
    "        print(f\"{param} -> {value} degrees\")\n",
    "    else:\n",
    "        print(f\"{param} -> {value} ft\")"
   ]
  },
  {
   "cell_type": "markdown",
   "metadata": {},
   "source": [
    "# *Horizontal Well Profiles*"
   ]
  },
  {
   "cell_type": "markdown",
   "metadata": {},
   "source": [
    "![Title](img/image_file_name_here.png)"
   ]
  },
  {
   "cell_type": "code",
   "execution_count": 101,
   "metadata": {},
   "outputs": [],
   "source": [
    "Data_H = namedtuple(\"Input\", \"TVD KOP BUR1 BUR2 DH\")\n",
    "Output_H = namedtuple(\"Output\", \"R1 R2 Theta TVD_EOB1 Md_EOB1 Dh_EOB1 Tan_len Md_SOB2 Md_total\")\n",
    "\n",
    "def well_H(data:Data_S, unit='ingles'):\n",
    "    tvd = data.TVD\n",
    "    kop = data.KOP\n",
    "    bur1 = data.BUR1\n",
    "    bur2 = data.BUR2\n",
    "    dh = data.DH\n",
    "    if unit == 'ingles':\n",
    "        R1 = 5729.58 / bur1\n",
    "        R2 = 5729.58 / bur2\n",
    "    else:\n",
    "        R1 = 1718.87 / bur1\n",
    "        R2 = 1718.87 / bur2\n",
    "    eg = (tvd - kop) - R2\n",
    "    eo = dh - R1\n",
    "    goe = degrees(atan(eg / eo))\n",
    "    og = sqrt(eg**2 + eo**2)\n",
    "    of = R1 - R2\n",
    "    gof = degrees(acos(of / og))\n",
    "    theta = 180 - goe - gof\n",
    "    tvd_eob1 = kop + R1 * sin(radians(theta))\n",
    "    if unit == 'ingles':\n",
    "        md_eob1 = kop + (theta / bur1) * 100\n",
    "    else:\n",
    "        md_eob1 = kop + (theta / bur1) * 30\n",
    "    dh_eob1 = R1 - abs(R1 * cos(radians(theta)))\n",
    "    tan_len = sqrt(og**2 - of**2)\n",
    "    if unit == 'ingles':\n",
    "        md_sob2 = kop + (theta / bur1) * 100 + tan_len \n",
    "    else:\n",
    "        md_sob2 = kop + (theta / bur1) * 30 + tan_len \n",
    "    #tvd_sod = tvd_eob + tan_len * abs(cos(radians(theta)))\n",
    "    #dh_sod = dh_eob + abs(tan_len * sin(radians(theta)))\n",
    "    if unit == 'ingles':\n",
    "        md_total = kop + (theta / bur1) * 100 + tan_len + ((90 - theta) / bur2) * 100\n",
    "    else:\n",
    "        md_total = kop + (theta / bur1) * 30 + tan_len + ((90 - theta) / bur2) * 30\n",
    "    return Output_H(R1=R1, R2=R2, Theta=theta, TVD_EOB1=tvd_eob1, Md_EOB1=md_eob1, Dh_EOB1=dh_eob1, \\\n",
    "                    Tan_len=tan_len, Md_SOB2=md_sob2, Md_total=md_total)"
   ]
  },
  {
   "cell_type": "code",
   "execution_count": 102,
   "metadata": {},
   "outputs": [],
   "source": [
    "trajectory_H = well_H(Data_H(3800, 2000, 5.73, 9.55, 1800))"
   ]
  },
  {
   "cell_type": "code",
   "execution_count": 103,
   "metadata": {},
   "outputs": [
    {
     "data": {
      "text/plain": [
       "Output(R1=999.9267015706805, R2=599.9560209424084, Theta=49.79153676571747, TVD_EOB1=2763.6447008457926, Md_EOB1=2868.9622472202, Dh_EOB1=354.4035188853795, Tan_len=1385.729515154276, Md_SOB2=4254.691762374476, Md_total=4675.722791005706)"
      ]
     },
     "execution_count": 103,
     "metadata": {},
     "output_type": "execute_result"
    }
   ],
   "source": [
    "trajectory_H"
   ]
  },
  {
   "cell_type": "code",
   "execution_count": 110,
   "metadata": {},
   "outputs": [
    {
     "name": "stdout",
     "output_type": "stream",
     "text": [
      "R1 -> 999.9267015706805 ft\n",
      "R2 -> 599.9560209424084 ft\n",
      "theta -> 49.79153676571747 degrees\n",
      "tvd_EOB1 -> 2763.6447008457926 ft\n",
      "Md_EOB1 -> 2868.9622472202 ft\n",
      "Dh_EOB1 -> 354.4035188853795 ft\n",
      "Lengh_tan -> 1385.729515154276 ft\n",
      "Md_SOB2 -> 4254.691762374476 ft\n",
      "Md_Total -> 4675.722791005706 ft\n"
     ]
    }
   ],
   "source": [
    "names = ['R1', 'R2', 'theta', 'tvd_EOB1', 'Md_EOB1', 'Dh_EOB1', 'Lengh_tan', 'Md_SOB2', 'Md_Total']\n",
    "for param , value in zip(names, trajectory_H):\n",
    "    if param == 'theta':\n",
    "        print(f\"{param} -> {value} degrees\")\n",
    "    else:\n",
    "        print(f\"{param} -> {value} ft\")"
   ]
  }
 ],
 "metadata": {
  "kernelspec": {
   "display_name": "Python 3",
   "language": "python",
   "name": "python3"
  },
  "language_info": {
   "codemirror_mode": {
    "name": "ipython",
    "version": 3
   },
   "file_extension": ".py",
   "mimetype": "text/x-python",
   "name": "python",
   "nbconvert_exporter": "python",
   "pygments_lexer": "ipython3",
   "version": "3.8.5"
  }
 },
 "nbformat": 4,
 "nbformat_minor": 4
}
